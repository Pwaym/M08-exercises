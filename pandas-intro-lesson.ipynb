{
 "cells": [
  {
   "cell_type": "code",
   "execution_count": 4,
   "id": "fb25a952",
   "metadata": {},
   "outputs": [
    {
     "data": {
      "text/plain": [
       "pandas.core.frame.DataFrame"
      ]
     },
     "execution_count": 4,
     "metadata": {},
     "output_type": "execute_result"
    }
   ],
   "source": [
    "import pandas as pd\n",
    "books = pd.read_csv('books.csv')\n",
    "type(books)"
   ]
  },
  {
   "cell_type": "code",
   "execution_count": 5,
   "id": "e8c3ceff",
   "metadata": {},
   "outputs": [
    {
     "data": {
      "text/plain": [
       "10000"
      ]
     },
     "execution_count": 5,
     "metadata": {},
     "output_type": "execute_result"
    }
   ],
   "source": [
    "len(books)"
   ]
  },
  {
   "cell_type": "code",
   "execution_count": 7,
   "id": "ad70bd4c",
   "metadata": {},
   "outputs": [
    {
     "data": {
      "text/plain": [
       "(10000, 23)"
      ]
     },
     "execution_count": 7,
     "metadata": {},
     "output_type": "execute_result"
    }
   ],
   "source": [
    "books.shape"
   ]
  },
  {
   "cell_type": "code",
   "execution_count": 8,
   "id": "3d93a991",
   "metadata": {},
   "outputs": [
    {
     "data": {
      "text/plain": [
       "Index(['id', 'book_id', 'best_book_id', 'work_id', 'books_count', 'isbn',\n",
       "       'isbn13', 'authors', 'original_publication_year', 'original_title',\n",
       "       'title', 'language_code', 'average_rating', 'ratings_count',\n",
       "       'work_ratings_count', 'work_text_reviews_count', 'ratings_1',\n",
       "       'ratings_2', 'ratings_3', 'ratings_4', 'ratings_5', 'image_url',\n",
       "       'small_image_url'],\n",
       "      dtype='object')"
      ]
     },
     "execution_count": 8,
     "metadata": {},
     "output_type": "execute_result"
    }
   ],
   "source": [
    "books.columns"
   ]
  },
  {
   "cell_type": "code",
   "execution_count": 9,
   "id": "dba6f544",
   "metadata": {},
   "outputs": [
    {
     "name": "stdout",
     "output_type": "stream",
     "text": [
      "<class 'pandas.core.frame.DataFrame'>\n",
      "RangeIndex: 10000 entries, 0 to 9999\n",
      "Data columns (total 23 columns):\n",
      " #   Column                     Non-Null Count  Dtype  \n",
      "---  ------                     --------------  -----  \n",
      " 0   id                         10000 non-null  int64  \n",
      " 1   book_id                    10000 non-null  int64  \n",
      " 2   best_book_id               10000 non-null  int64  \n",
      " 3   work_id                    10000 non-null  int64  \n",
      " 4   books_count                10000 non-null  int64  \n",
      " 5   isbn                       9300 non-null   object \n",
      " 6   isbn13                     9415 non-null   float64\n",
      " 7   authors                    10000 non-null  object \n",
      " 8   original_publication_year  9979 non-null   float64\n",
      " 9   original_title             9415 non-null   object \n",
      " 10  title                      10000 non-null  object \n",
      " 11  language_code              8916 non-null   object \n",
      " 12  average_rating             10000 non-null  float64\n",
      " 13  ratings_count              10000 non-null  int64  \n",
      " 14  work_ratings_count         10000 non-null  int64  \n",
      " 15  work_text_reviews_count    10000 non-null  int64  \n",
      " 16  ratings_1                  10000 non-null  int64  \n",
      " 17  ratings_2                  10000 non-null  int64  \n",
      " 18  ratings_3                  10000 non-null  int64  \n",
      " 19  ratings_4                  10000 non-null  int64  \n",
      " 20  ratings_5                  10000 non-null  int64  \n",
      " 21  image_url                  10000 non-null  object \n",
      " 22  small_image_url            10000 non-null  object \n",
      "dtypes: float64(3), int64(13), object(7)\n",
      "memory usage: 1.8+ MB\n"
     ]
    }
   ],
   "source": [
    "books.info()"
   ]
  },
  {
   "cell_type": "code",
   "execution_count": 11,
   "id": "e4c6b314",
   "metadata": {},
   "outputs": [
    {
     "data": {
      "text/plain": [
       "id                             int64\n",
       "book_id                        int64\n",
       "best_book_id                   int64\n",
       "work_id                        int64\n",
       "books_count                    int64\n",
       "isbn                          object\n",
       "isbn13                       float64\n",
       "authors                       object\n",
       "original_publication_year    float64\n",
       "original_title                object\n",
       "title                         object\n",
       "language_code                 object\n",
       "average_rating               float64\n",
       "ratings_count                  int64\n",
       "work_ratings_count             int64\n",
       "work_text_reviews_count        int64\n",
       "ratings_1                      int64\n",
       "ratings_2                      int64\n",
       "ratings_3                      int64\n",
       "ratings_4                      int64\n",
       "ratings_5                      int64\n",
       "image_url                     object\n",
       "small_image_url               object\n",
       "dtype: object"
      ]
     },
     "execution_count": 11,
     "metadata": {},
     "output_type": "execute_result"
    }
   ],
   "source": [
    "books.dtypes"
   ]
  },
  {
   "cell_type": "code",
   "execution_count": 18,
   "id": "534cf2e7",
   "metadata": {},
   "outputs": [
    {
     "data": {
      "text/html": [
       "<div>\n",
       "<style scoped>\n",
       "    .dataframe tbody tr th:only-of-type {\n",
       "        vertical-align: middle;\n",
       "    }\n",
       "\n",
       "    .dataframe tbody tr th {\n",
       "        vertical-align: top;\n",
       "    }\n",
       "\n",
       "    .dataframe thead th {\n",
       "        text-align: right;\n",
       "    }\n",
       "</style>\n",
       "<table border=\"1\" class=\"dataframe\">\n",
       "  <thead>\n",
       "    <tr style=\"text-align: right;\">\n",
       "      <th></th>\n",
       "      <th>title</th>\n",
       "      <th>authors</th>\n",
       "      <th>average_rating</th>\n",
       "    </tr>\n",
       "  </thead>\n",
       "  <tbody>\n",
       "    <tr>\n",
       "      <th>9995</th>\n",
       "      <td>Bayou Moon (The Edge, #2)</td>\n",
       "      <td>Ilona Andrews</td>\n",
       "      <td>4.09</td>\n",
       "    </tr>\n",
       "    <tr>\n",
       "      <th>9996</th>\n",
       "      <td>Means of Ascent (The Years of Lyndon Johnson, #2)</td>\n",
       "      <td>Robert A. Caro</td>\n",
       "      <td>4.25</td>\n",
       "    </tr>\n",
       "    <tr>\n",
       "      <th>9997</th>\n",
       "      <td>The Mauritius Command</td>\n",
       "      <td>Patrick O'Brian</td>\n",
       "      <td>4.35</td>\n",
       "    </tr>\n",
       "    <tr>\n",
       "      <th>9998</th>\n",
       "      <td>Cinderella Ate My Daughter: Dispatches from th...</td>\n",
       "      <td>Peggy Orenstein</td>\n",
       "      <td>3.65</td>\n",
       "    </tr>\n",
       "    <tr>\n",
       "      <th>9999</th>\n",
       "      <td>The First World War</td>\n",
       "      <td>John Keegan</td>\n",
       "      <td>4.00</td>\n",
       "    </tr>\n",
       "  </tbody>\n",
       "</table>\n",
       "</div>"
      ],
      "text/plain": [
       "                                                  title          authors  \\\n",
       "9995                          Bayou Moon (The Edge, #2)    Ilona Andrews   \n",
       "9996  Means of Ascent (The Years of Lyndon Johnson, #2)   Robert A. Caro   \n",
       "9997                              The Mauritius Command  Patrick O'Brian   \n",
       "9998  Cinderella Ate My Daughter: Dispatches from th...  Peggy Orenstein   \n",
       "9999                                The First World War      John Keegan   \n",
       "\n",
       "      average_rating  \n",
       "9995            4.09  \n",
       "9996            4.25  \n",
       "9997            4.35  \n",
       "9998            3.65  \n",
       "9999            4.00  "
      ]
     },
     "execution_count": 18,
     "metadata": {},
     "output_type": "execute_result"
    }
   ],
   "source": [
    "books = books[['title','authors','average_rating']]\n",
    "books.tail()"
   ]
  },
  {
   "cell_type": "code",
   "execution_count": 20,
   "id": "a5ce98a6",
   "metadata": {},
   "outputs": [
    {
     "name": "stdout",
     "output_type": "stream",
     "text": [
      "[4.82 4.77 4.77 4.76 4.76] [Int64Index([3627, 861, 3274, 7946, 8853], dtype='int64')]\n"
     ]
    }
   ],
   "source": [
    "most_popular_books = books.average_rating.nlargest()\n",
    "print(most_popular_books.values,most_popular_books.axes)"
   ]
  },
  {
   "cell_type": "code",
   "execution_count": 22,
   "id": "d7c2e913",
   "metadata": {},
   "outputs": [
    {
     "name": "stdout",
     "output_type": "stream",
     "text": [
      "3627                       The Complete Calvin and Hobbes\n",
      "861        Words of Radiance (The Stormlight Archive, #2)\n",
      "3274    Harry Potter Boxed Set, Books 1-5 (Harry Potte...\n",
      "7946                                      ESV Study Bible\n",
      "8853                             Mark of the Lion Trilogy\n",
      "Name: title, dtype: object\n"
     ]
    }
   ],
   "source": [
    "for axis_value in most_popular_books.axes:\n",
    "    print(books.iloc[axis_value].title)"
   ]
  },
  {
   "cell_type": "code",
   "execution_count": 23,
   "id": "71866ce6",
   "metadata": {},
   "outputs": [
    {
     "data": {
      "text/html": [
       "<div>\n",
       "<style scoped>\n",
       "    .dataframe tbody tr th:only-of-type {\n",
       "        vertical-align: middle;\n",
       "    }\n",
       "\n",
       "    .dataframe tbody tr th {\n",
       "        vertical-align: top;\n",
       "    }\n",
       "\n",
       "    .dataframe thead th {\n",
       "        text-align: right;\n",
       "    }\n",
       "</style>\n",
       "<table border=\"1\" class=\"dataframe\">\n",
       "  <thead>\n",
       "    <tr style=\"text-align: right;\">\n",
       "      <th></th>\n",
       "      <th>title</th>\n",
       "      <th>authors</th>\n",
       "      <th>average_rating</th>\n",
       "    </tr>\n",
       "  </thead>\n",
       "  <tbody>\n",
       "    <tr>\n",
       "      <th>3627</th>\n",
       "      <td>The Complete Calvin and Hobbes</td>\n",
       "      <td>Bill Watterson</td>\n",
       "      <td>4.82</td>\n",
       "    </tr>\n",
       "    <tr>\n",
       "      <th>861</th>\n",
       "      <td>Words of Radiance (The Stormlight Archive, #2)</td>\n",
       "      <td>Brandon Sanderson</td>\n",
       "      <td>4.77</td>\n",
       "    </tr>\n",
       "    <tr>\n",
       "      <th>3274</th>\n",
       "      <td>Harry Potter Boxed Set, Books 1-5 (Harry Potte...</td>\n",
       "      <td>J.K. Rowling, Mary GrandPré</td>\n",
       "      <td>4.77</td>\n",
       "    </tr>\n",
       "    <tr>\n",
       "      <th>7946</th>\n",
       "      <td>ESV Study Bible</td>\n",
       "      <td>Anonymous, Lane T. Dennis, Wayne A. Grudem</td>\n",
       "      <td>4.76</td>\n",
       "    </tr>\n",
       "    <tr>\n",
       "      <th>8853</th>\n",
       "      <td>Mark of the Lion Trilogy</td>\n",
       "      <td>Francine Rivers</td>\n",
       "      <td>4.76</td>\n",
       "    </tr>\n",
       "  </tbody>\n",
       "</table>\n",
       "</div>"
      ],
      "text/plain": [
       "                                                  title  \\\n",
       "3627                     The Complete Calvin and Hobbes   \n",
       "861      Words of Radiance (The Stormlight Archive, #2)   \n",
       "3274  Harry Potter Boxed Set, Books 1-5 (Harry Potte...   \n",
       "7946                                    ESV Study Bible   \n",
       "8853                           Mark of the Lion Trilogy   \n",
       "\n",
       "                                         authors  average_rating  \n",
       "3627                              Bill Watterson            4.82  \n",
       "861                            Brandon Sanderson            4.77  \n",
       "3274                 J.K. Rowling, Mary GrandPré            4.77  \n",
       "7946  Anonymous, Lane T. Dennis, Wayne A. Grudem            4.76  \n",
       "8853                             Francine Rivers            4.76  "
      ]
     },
     "execution_count": 23,
     "metadata": {},
     "output_type": "execute_result"
    }
   ],
   "source": [
    "books.nlargest(5,'average_rating')"
   ]
  },
  {
   "cell_type": "code",
   "execution_count": 25,
   "id": "8ab43a1c",
   "metadata": {},
   "outputs": [
    {
     "data": {
      "text/plain": [
       "Index(['The Hunger Games (The Hunger Games, #1)',\n",
       "       'Harry Potter and the Sorcerer's Stone (Harry Potter, #1)',\n",
       "       'Twilight (Twilight, #1)', 'To Kill a Mockingbird', 'The Great Gatsby',\n",
       "       'The Fault in Our Stars', 'The Hobbit', 'The Catcher in the Rye',\n",
       "       'Angels & Demons  (Robert Langdon, #1)', 'Pride and Prejudice',\n",
       "       ...\n",
       "       'The Famished Road', 'The Red Knight (The Traitor Son Cycle, #1)',\n",
       "       'The Time Traveller's Guide to Medieval England: A Handbook for Visitors to the Fourteenth Century',\n",
       "       'The Everafter War (The Sisters Grimm, #7)', 'Billy Budd, Sailor',\n",
       "       'Bayou Moon (The Edge, #2)',\n",
       "       'Means of Ascent (The Years of Lyndon Johnson, #2)',\n",
       "       'The Mauritius Command',\n",
       "       'Cinderella Ate My Daughter: Dispatches from the Frontlines of the New Girlie-Girl Culture',\n",
       "       'The First World War'],\n",
       "      dtype='object', name='title', length=10000)"
      ]
     },
     "execution_count": 25,
     "metadata": {},
     "output_type": "execute_result"
    }
   ],
   "source": [
    "booksCollection = books[['title','authors','average_rating']]\n",
    "booksCollection = booksCollection.set_index('title')\n",
    "booksCollection.index"
   ]
  },
  {
   "cell_type": "code",
   "execution_count": 32,
   "id": "d662d66e",
   "metadata": {},
   "outputs": [
    {
     "data": {
      "text/plain": [
       "[Index(['The Complete Calvin and Hobbes',\n",
       "        'Words of Radiance (The Stormlight Archive, #2)',\n",
       "        'Harry Potter Boxed Set, Books 1-5 (Harry Potter, #1-5)',\n",
       "        'ESV Study Bible', 'Mark of the Lion Trilogy'],\n",
       "       dtype='object', name='title'),\n",
       " Index(['authors', 'average_rating'], dtype='object')]"
      ]
     },
     "execution_count": 32,
     "metadata": {},
     "output_type": "execute_result"
    }
   ],
   "source": [
    "booksCollection.nlargest(5,'average_rating').axes"
   ]
  },
  {
   "cell_type": "code",
   "execution_count": 33,
   "id": "fdf012f2",
   "metadata": {},
   "outputs": [
    {
     "data": {
      "text/plain": [
       "authors           Bill Watterson\n",
       "average_rating              4.82\n",
       "Name: The Complete Calvin and Hobbes, dtype: object"
      ]
     },
     "execution_count": 33,
     "metadata": {},
     "output_type": "execute_result"
    }
   ],
   "source": [
    "booksCollection.loc['The Complete Calvin and Hobbes']"
   ]
  },
  {
   "cell_type": "code",
   "execution_count": null,
   "id": "a19fe5f0",
   "metadata": {},
   "outputs": [],
   "source": []
  }
 ],
 "metadata": {
  "kernelspec": {
   "display_name": "Python 3 (ipykernel)",
   "language": "python",
   "name": "python3"
  },
  "language_info": {
   "codemirror_mode": {
    "name": "ipython",
    "version": 3
   },
   "file_extension": ".py",
   "mimetype": "text/x-python",
   "name": "python",
   "nbconvert_exporter": "python",
   "pygments_lexer": "ipython3",
   "version": "3.9.12"
  }
 },
 "nbformat": 4,
 "nbformat_minor": 5
}
